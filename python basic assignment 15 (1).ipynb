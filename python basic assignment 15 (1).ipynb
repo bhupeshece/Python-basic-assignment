{
 "cells": [
  {
   "cell_type": "code",
   "execution_count": 1,
   "id": "7e2ddca4",
   "metadata": {},
   "outputs": [],
   "source": [
    "#Q1\n",
    "second_in_an_hour = 60*60"
   ]
  },
  {
   "cell_type": "code",
   "execution_count": 2,
   "id": "c48f89b7",
   "metadata": {},
   "outputs": [],
   "source": [
    "#Q2\n",
    "second_per_hour = second_in_an_hour"
   ]
  },
  {
   "cell_type": "code",
   "execution_count": 3,
   "id": "b3513f69",
   "metadata": {},
   "outputs": [],
   "source": [
    "#Q3\n",
    "second_per_hour = 24 * second_per_hour"
   ]
  },
  {
   "cell_type": "code",
   "execution_count": 4,
   "id": "fd4e8f84",
   "metadata": {},
   "outputs": [],
   "source": [
    "#Q4\n",
    "second_per_day = 24 * second_per_hour"
   ]
  },
  {
   "cell_type": "code",
   "execution_count": 5,
   "id": "a03d6673",
   "metadata": {},
   "outputs": [
    {
     "data": {
      "text/plain": [
       "24.0"
      ]
     },
     "execution_count": 5,
     "metadata": {},
     "output_type": "execute_result"
    }
   ],
   "source": [
    "#Q5\n",
    "second_per_day / second_per_hour"
   ]
  },
  {
   "cell_type": "code",
   "execution_count": 6,
   "id": "1b7d9a0c",
   "metadata": {},
   "outputs": [
    {
     "data": {
      "text/plain": [
       "24"
      ]
     },
     "execution_count": 6,
     "metadata": {},
     "output_type": "execute_result"
    }
   ],
   "source": [
    "#Q6\n",
    "second_per_day // second_per_hour"
   ]
  },
  {
   "cell_type": "code",
   "execution_count": 7,
   "id": "1746d38a",
   "metadata": {},
   "outputs": [
    {
     "data": {
      "text/plain": [
       "<generator object genPrimes at 0x000001E21A75CD60>"
      ]
     },
     "execution_count": 7,
     "metadata": {},
     "output_type": "execute_result"
    }
   ],
   "source": [
    "#Q7\n",
    "def genPrimes():\n",
    "    primes = [2]\n",
    "    yield primes[0]\n",
    "    guess = 3\n",
    "    while True:\n",
    "        if all(guess%x != 0 for x in primes):\n",
    "            primes.append(guess)        \n",
    "        if guess == primes[-1]:\n",
    "            yield primes[-1]\n",
    "        guess += 2\n",
    "genPrimes()"
   ]
  },
  {
   "cell_type": "code",
   "execution_count": null,
   "id": "3a579530",
   "metadata": {},
   "outputs": [],
   "source": []
  }
 ],
 "metadata": {
  "kernelspec": {
   "display_name": "Python 3 (ipykernel)",
   "language": "python",
   "name": "python3"
  },
  "language_info": {
   "codemirror_mode": {
    "name": "ipython",
    "version": 3
   },
   "file_extension": ".py",
   "mimetype": "text/x-python",
   "name": "python",
   "nbconvert_exporter": "python",
   "pygments_lexer": "ipython3",
   "version": "3.9.12"
  }
 },
 "nbformat": 4,
 "nbformat_minor": 5
}
