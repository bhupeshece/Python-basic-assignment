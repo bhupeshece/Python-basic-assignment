{
 "cells": [
  {
   "cell_type": "code",
   "execution_count": 1,
   "id": "d515fe12",
   "metadata": {},
   "outputs": [
    {
     "data": {
      "text/plain": [
       "'\\nthe two values of data types are true and false and we write them as\\nTrue , False\\n'"
      ]
     },
     "execution_count": 1,
     "metadata": {},
     "output_type": "execute_result"
    }
   ],
   "source": [
    "#1Q\n",
    "\"\"\"\n",
    "the two values of data types are true and false and we write them as\n",
    "True , False\n",
    "\"\"\""
   ]
  },
  {
   "cell_type": "code",
   "execution_count": 2,
   "id": "4afddb60",
   "metadata": {},
   "outputs": [
    {
     "data": {
      "text/plain": [
       "'\\nthe three different types of boolean opeartors are\\nand , or , not\\n'"
      ]
     },
     "execution_count": 2,
     "metadata": {},
     "output_type": "execute_result"
    }
   ],
   "source": [
    "#2Q\n",
    "'''\n",
    "the three different types of boolean opeartors are\n",
    "and , or , not\n",
    "'''"
   ]
  },
  {
   "cell_type": "code",
   "execution_count": 3,
   "id": "739fd0c2",
   "metadata": {},
   "outputs": [
    {
     "ename": "SyntaxError",
     "evalue": "EOF while scanning triple-quoted string literal (142549077.py, line 7)",
     "output_type": "error",
     "traceback": [
      "\u001b[1;36m  Input \u001b[1;32mIn [3]\u001b[1;36m\u001b[0m\n\u001b[1;33m    expression False ,False evaluates to False\u001b[0m\n\u001b[1;37m                                              \n^\u001b[0m\n\u001b[1;31mSyntaxError\u001b[0m\u001b[1;31m:\u001b[0m EOF while scanning triple-quoted string literal\n"
     ]
    }
   ],
   "source": [
    "#3Q\n",
    "#and truth table\n",
    "'''\n",
    "expression True ,True evaluates to True\n",
    "expression False ,True evaluates to False\n",
    "expression True ,False evaluates to False\n",
    "expression False ,False evaluates to False"
   ]
  },
  {
   "cell_type": "code",
   "execution_count": 4,
   "id": "a54eb6e9",
   "metadata": {},
   "outputs": [
    {
     "data": {
      "text/plain": [
       "'\\nexpression True ,True evaluates to True\\nexpression False ,True evaluates to True\\nexpression True ,False evaluates to True\\nexpression False ,False evaluates to False\\n'"
      ]
     },
     "execution_count": 4,
     "metadata": {},
     "output_type": "execute_result"
    }
   ],
   "source": [
    "#3Q\n",
    "#or truth table\n",
    "'''\n",
    "expression True ,True evaluates to True\n",
    "expression False ,True evaluates to True\n",
    "expression True ,False evaluates to True\n",
    "expression False ,False evaluates to False\n",
    "'''\n"
   ]
  },
  {
   "cell_type": "code",
   "execution_count": 5,
   "id": "228ea037",
   "metadata": {},
   "outputs": [
    {
     "data": {
      "text/plain": [
       "'\\nexpression not True evaluates to False\\nexpression not False evaluates to True\\n'"
      ]
     },
     "execution_count": 5,
     "metadata": {},
     "output_type": "execute_result"
    }
   ],
   "source": [
    "#3Q\n",
    "#not truth table\n",
    "'''\n",
    "expression not True evaluates to False\n",
    "expression not False evaluates to True\n",
    "'''"
   ]
  },
  {
   "cell_type": "code",
   "execution_count": 6,
   "id": "645c6827",
   "metadata": {},
   "outputs": [
    {
     "data": {
      "text/plain": [
       "'\\n(5>4) and (3==5) is False\\nnot(5>4) is False\\n(5>4) or (3==5) is True\\nnot ((5>4)or(3==5)) is False\\n(True and True) and (True == False) is False\\n(not False) or (not True) is True\\n'"
      ]
     },
     "execution_count": 6,
     "metadata": {},
     "output_type": "execute_result"
    }
   ],
   "source": [
    "#4Q\n",
    "'''\n",
    "(5>4) and (3==5) is False\n",
    "not(5>4) is False\n",
    "(5>4) or (3==5) is True\n",
    "not ((5>4)or(3==5)) is False\n",
    "(True and True) and (True == False) is False\n",
    "(not False) or (not True) is True\n",
    "'''"
   ]
  },
  {
   "cell_type": "code",
   "execution_count": 7,
   "id": "2bc19f04",
   "metadata": {},
   "outputs": [
    {
     "data": {
      "text/plain": [
       "'the six comparsion operators are\\n> (greater than)\\n< (lesser than)\\n>= (greater than or equal to)\\n<= (lesser than or equal to)\\n== (equal to)\\n!= (not equal to)'"
      ]
     },
     "execution_count": 7,
     "metadata": {},
     "output_type": "execute_result"
    }
   ],
   "source": [
    "#5Q\n",
    "'''the six comparsion operators are\n",
    "> (greater than)\n",
    "< (lesser than)\n",
    ">= (greater than or equal to)\n",
    "<= (lesser than or equal to)\n",
    "== (equal to)\n",
    "!= (not equal to)'''"
   ]
  },
  {
   "cell_type": "code",
   "execution_count": 8,
   "id": "23b193c9",
   "metadata": {},
   "outputs": [
    {
     "data": {
      "text/plain": [
       "'the equal to has two == sign and \\nassignment operator has only one = sign'"
      ]
     },
     "execution_count": 8,
     "metadata": {},
     "output_type": "execute_result"
    }
   ],
   "source": [
    "#6Q\n",
    "'''the equal to has two == sign and \n",
    "assignment operator has only one = sign'''"
   ]
  },
  {
   "cell_type": "code",
   "execution_count": 9,
   "id": "76119ab9",
   "metadata": {},
   "outputs": [
    {
     "name": "stdout",
     "output_type": "stream",
     "text": [
      "your name is correct\n"
     ]
    }
   ],
   "source": [
    "#6\n",
    "#condition used for equal to and assignment operator\n",
    "name = 'ravindra v'\n",
    "if name == 'ravindra v':\n",
    "    print(\"your name is correct\")\n",
    "else:\n",
    "    print(\"your name is incorrect\")"
   ]
  },
  {
   "cell_type": "code",
   "execution_count": 10,
   "id": "fe7da613",
   "metadata": {},
   "outputs": [
    {
     "data": {
      "text/plain": [
       "\"print('ham')\\n    print('spam')\\n    print('spam')\""
      ]
     },
     "execution_count": 10,
     "metadata": {},
     "output_type": "execute_result"
    }
   ],
   "source": [
    "#7Q\n",
    "'''print('ham')\n",
    "    print('spam')\n",
    "    print('spam')'''"
   ]
  },
  {
   "cell_type": "code",
   "execution_count": 11,
   "id": "2e8f5089",
   "metadata": {},
   "outputs": [
    {
     "name": "stdout",
     "output_type": "stream",
     "text": [
      "greetings!\n"
     ]
    }
   ],
   "source": [
    "#8Q\n",
    "spam = 5\n",
    "if spam == 1:\n",
    "    print('hello')\n",
    "elif spam == 2:\n",
    "    print('howdy')\n",
    "else:\n",
    "    print(\"greetings!\")"
   ]
  },
  {
   "cell_type": "code",
   "execution_count": 12,
   "id": "442a0a34",
   "metadata": {},
   "outputs": [
    {
     "data": {
      "text/plain": [
       "'ctrl+c'"
      ]
     },
     "execution_count": 12,
     "metadata": {},
     "output_type": "execute_result"
    }
   ],
   "source": [
    "#9Q\n",
    "'''ctrl+c'''"
   ]
  },
  {
   "cell_type": "code",
   "execution_count": 13,
   "id": "77e21739",
   "metadata": {},
   "outputs": [
    {
     "data": {
      "text/plain": [
       "'a break statement immediately leaves the loop without rechecking the condition\\na continue statement immediately jump back to the start of loop and rechecks the condition'"
      ]
     },
     "execution_count": 13,
     "metadata": {},
     "output_type": "execute_result"
    }
   ],
   "source": [
    "#10Q\n",
    "'''a break statement immediately leaves the loop without rechecking the condition\n",
    "a continue statement immediately jump back to the start of loop and rechecks the condition'''"
   ]
  },
  {
   "cell_type": "code",
   "execution_count": 14,
   "id": "b8e9496f",
   "metadata": {},
   "outputs": [
    {
     "data": {
      "text/plain": [
       "'range(10) is called with 1 argument with loop that number of times\\nrange(0,10) is called with 2 argument with starting integer and with ending integer\\nrange(0,10,1) is called with 3 argument with starting integer and with ending integer and also step size'"
      ]
     },
     "execution_count": 14,
     "metadata": {},
     "output_type": "execute_result"
    }
   ],
   "source": [
    "#11Q\n",
    "'''range(10) is called with 1 argument with loop that number of times\n",
    "range(0,10) is called with 2 argument with starting integer and with ending integer\n",
    "range(0,10,1) is called with 3 argument with starting integer and with ending integer and also step size'''"
   ]
  },
  {
   "cell_type": "code",
   "execution_count": null,
   "id": "f317cdf3",
   "metadata": {},
   "outputs": [],
   "source": []
  },
  {
   "cell_type": "code",
   "execution_count": 15,
   "id": "d2871894",
   "metadata": {},
   "outputs": [
    {
     "name": "stdout",
     "output_type": "stream",
     "text": [
      "1\n",
      "2\n",
      "3\n",
      "4\n",
      "5\n",
      "6\n",
      "7\n",
      "8\n",
      "9\n",
      "10\n"
     ]
    }
   ],
   "source": [
    "#12Q\n",
    "#for loop\n",
    "for i in range(1,11):\n",
    "    print(i)"
   ]
  },
  {
   "cell_type": "code",
   "execution_count": 16,
   "id": "15200e34",
   "metadata": {},
   "outputs": [
    {
     "name": "stdout",
     "output_type": "stream",
     "text": [
      "1\n",
      "2\n",
      "3\n",
      "4\n",
      "5\n",
      "6\n",
      "7\n",
      "8\n",
      "9\n",
      "10\n"
     ]
    }
   ],
   "source": [
    "#12Q\n",
    "#while loop\n",
    "i = 1\n",
    "while i < 11:\n",
    "    print(i)\n",
    "    i += 1"
   ]
  },
  {
   "cell_type": "code",
   "execution_count": 17,
   "id": "2373de0b",
   "metadata": {},
   "outputs": [
    {
     "data": {
      "text/plain": [
       "'we call it by import statement\\nspam.bacon()'"
      ]
     },
     "execution_count": 17,
     "metadata": {},
     "output_type": "execute_result"
    }
   ],
   "source": [
    "#13Q\n",
    "'''we call it by import statement\n",
    "spam.bacon()'''"
   ]
  },
  {
   "cell_type": "code",
   "execution_count": null,
   "id": "f1c1766b",
   "metadata": {},
   "outputs": [],
   "source": []
  }
 ],
 "metadata": {
  "kernelspec": {
   "display_name": "Python 3 (ipykernel)",
   "language": "python",
   "name": "python3"
  },
  "language_info": {
   "codemirror_mode": {
    "name": "ipython",
    "version": 3
   },
   "file_extension": ".py",
   "mimetype": "text/x-python",
   "name": "python",
   "nbconvert_exporter": "python",
   "pygments_lexer": "ipython3",
   "version": "3.9.12"
  }
 },
 "nbformat": 4,
 "nbformat_minor": 5
}
