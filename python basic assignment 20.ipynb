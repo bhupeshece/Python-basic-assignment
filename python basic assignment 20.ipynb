{
 "cells": [
  {
   "cell_type": "code",
   "execution_count": 1,
   "id": "4c630ab9",
   "metadata": {},
   "outputs": [],
   "source": [
    "#Q1\n",
    "test1 = '''This is a test of the emergency text system'''\n",
    "result = open(\"text.txt\",\"wt\")\n",
    "result.write(test1)\n",
    "result.close()"
   ]
  },
  {
   "cell_type": "code",
   "execution_count": 2,
   "id": "033b03fa",
   "metadata": {},
   "outputs": [
    {
     "name": "stdout",
     "output_type": "stream",
     "text": [
      "True\n",
      "the test1 is equal to test2\n"
     ]
    }
   ],
   "source": [
    "#Q2\n",
    "with open(\"text.txt\") as infile:\n",
    "    test2 = infile.read()\n",
    "print(test1 == test2)\n",
    "print(\"the test1 is equal to test2\")"
   ]
  },
  {
   "cell_type": "code",
   "execution_count": 3,
   "id": "c1934df7",
   "metadata": {},
   "outputs": [],
   "source": [
    "#Q3\n",
    "text=\"\"\"title,author,year\n",
    "The Weirdstone of Brisingamen,Alan Garner,1960\n",
    " Perdido Street Station,China Miéville,2000\n",
    "Thud!,Terry Pratchett,2005\n",
    "The Spellman Files,Lisa Lutsz,2007\n",
    "Small Gods,Terry Pratchett,1992\"\"\"\n",
    "\n",
    "with open(\"books.csv\",\"wt\") as file:\n",
    "    file.write(text)"
   ]
  },
  {
   "cell_type": "code",
   "execution_count": 8,
   "id": "a4d04912",
   "metadata": {},
   "outputs": [],
   "source": [
    "#Q4\n",
    "import sqlite3 as sq\n",
    "conn = sq.connect(\"books.db\")\n",
    "cur = conn.cursor()\n",
    "cur.execute(\"CREATE TABLE book(title text, author text, year int)\")\n",
    "conn.commit()"
   ]
  },
  {
   "cell_type": "code",
   "execution_count": 11,
   "id": "7cbbfa49",
   "metadata": {},
   "outputs": [],
   "source": [
    "#Q5\n",
    "import csv\n",
    "import sqlite3\n",
    "ins_str =\"insert into book values(?,?,?)\"\n",
    "with open(\"books.csv\",\"rt\") as infile:\n",
    "    books=csv.DictReader(infile)\n",
    "    for book in books:\n",
    "        cur.execute(ins_str,(book[\"title\"],book[\"author\"],book[\"year\"]))"
   ]
  },
  {
   "cell_type": "code",
   "execution_count": 12,
   "id": "17ebec18",
   "metadata": {},
   "outputs": [],
   "source": [
    "#Q5\n",
    "conn.commit()"
   ]
  },
  {
   "cell_type": "code",
   "execution_count": 13,
   "id": "72f42710",
   "metadata": {},
   "outputs": [
    {
     "name": "stdout",
     "output_type": "stream",
     "text": [
      "printing title column from the book table in alphabetical order\n",
      "(' Perdido Street Station',)\n",
      "('Small Gods',)\n",
      "('The Spellman Files',)\n",
      "('The Weirdstone of Brisingamen',)\n",
      "('Thud!',)\n"
     ]
    }
   ],
   "source": [
    "#Q6\"\n",
    "print(\"printing title column from the book table in alphabetical order\")\n",
    "result = \"select title from book order by title asc\"\n",
    "for i in conn.execute(result):\n",
    "    print(i)"
   ]
  },
  {
   "cell_type": "code",
   "execution_count": 14,
   "id": "923af9d7",
   "metadata": {},
   "outputs": [
    {
     "name": "stdout",
     "output_type": "stream",
     "text": [
      "printing columns in order of publication year: \n",
      "('The Weirdstone of Brisingamen', 'Alan Garner', 1960)\n",
      "('Small Gods', 'Terry Pratchett', 1992)\n",
      "(' Perdido Street Station', 'China Miéville', 2000)\n",
      "('Thud!', 'Terry Pratchett', 2005)\n",
      "('The Spellman Files', 'Lisa Lutsz', 2007)\n"
     ]
    }
   ],
   "source": [
    "#Q7\n",
    "print(\"printing columns in order of publication year: \")\n",
    "for i in conn.execute(\"select * from book order by year\"):\n",
    "    print(i)"
   ]
  },
  {
   "cell_type": "code",
   "execution_count": 15,
   "id": "4c7ac71f",
   "metadata": {},
   "outputs": [
    {
     "name": "stdout",
     "output_type": "stream",
     "text": [
      "(' Perdido Street Station',)\n",
      "('Small Gods',)\n",
      "('The Spellman Files',)\n",
      "('The Weirdstone of Brisingamen',)\n",
      "('Thud!',)\n"
     ]
    }
   ],
   "source": [
    "#Q8\n",
    "import sqlalchemy as sq\n",
    "conn = sq.create_engine(\"sqlite:///books.db\")\n",
    "result = \"select title from book order by title asc\"\n",
    "rows = conn.execute(result)\n",
    "for i in rows:\n",
    "    print(i)"
   ]
  },
  {
   "cell_type": "code",
   "execution_count": 17,
   "id": "db01b044",
   "metadata": {},
   "outputs": [
    {
     "ename": "ModuleNotFoundError",
     "evalue": "No module named 'Redis'",
     "output_type": "error",
     "traceback": [
      "\u001b[1;31m---------------------------------------------------------------------------\u001b[0m",
      "\u001b[1;31mModuleNotFoundError\u001b[0m                       Traceback (most recent call last)",
      "Cell \u001b[1;32mIn[17], line 2\u001b[0m\n\u001b[0;32m      1\u001b[0m \u001b[38;5;66;03m#Q9\u001b[39;00m\n\u001b[1;32m----> 2\u001b[0m \u001b[38;5;28;01mimport\u001b[39;00m \u001b[38;5;21;01mRedis\u001b[39;00m\n\u001b[0;32m      3\u001b[0m conn\u001b[38;5;241m=\u001b[39mredis\u001b[38;5;241m.\u001b[39mRedis(\u001b[38;5;124m\"\u001b[39m\u001b[38;5;124mbooks.db\u001b[39m\u001b[38;5;124m\"\u001b[39m)\n\u001b[0;32m      4\u001b[0m conn\u001b[38;5;241m.\u001b[39mhmset(\u001b[38;5;124m\"\u001b[39m\u001b[38;5;124mtest\u001b[39m\u001b[38;5;124m\"\u001b[39m,{\u001b[38;5;124m\"\u001b[39m\u001b[38;5;124mcount\u001b[39m\u001b[38;5;124m\"\u001b[39m:\u001b[38;5;124m\"\u001b[39m\u001b[38;5;124m1\u001b[39m\u001b[38;5;124m\"\u001b[39m,\u001b[38;5;124m\"\u001b[39m\u001b[38;5;124mname\u001b[39m\u001b[38;5;124m\"\u001b[39m:\u001b[38;5;124m\"\u001b[39m\u001b[38;5;124mFester Besteretester\u001b[39m\u001b[38;5;124m\"\u001b[39m})\n",
      "\u001b[1;31mModuleNotFoundError\u001b[0m: No module named 'Redis'"
     ]
    }
   ],
   "source": [
    "#Q9\n",
    "import redis\n",
    "conn=redis.Redis(\"books.db\")\n",
    "conn.hmset(\"test\",{\"count\":\"1\",\"name\":\"Fester Besteretester\"})"
   ]
  },
  {
   "cell_type": "code",
   "execution_count": null,
   "id": "e19a25da",
   "metadata": {},
   "outputs": [],
   "source": []
  }
 ],
 "metadata": {
  "kernelspec": {
   "display_name": "Python 3 (ipykernel)",
   "language": "python",
   "name": "python3"
  },
  "language_info": {
   "codemirror_mode": {
    "name": "ipython",
    "version": 3
   },
   "file_extension": ".py",
   "mimetype": "text/x-python",
   "name": "python",
   "nbconvert_exporter": "python",
   "pygments_lexer": "ipython3",
   "version": "3.10.9"
  }
 },
 "nbformat": 4,
 "nbformat_minor": 5
}
