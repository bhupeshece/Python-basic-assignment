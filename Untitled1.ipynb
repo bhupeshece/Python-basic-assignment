{
 "cells": [
  {
   "cell_type": "code",
   "execution_count": 1,
   "id": "ff715f79",
   "metadata": {},
   "outputs": [],
   "source": [
    "#1Q\n",
    "#values are 'hello' , 6\n",
    "#expressions are  * , - , / , + , -87.8\n",
    "#2Q"
   ]
  },
  {
   "cell_type": "code",
   "execution_count": 2,
   "id": "f22757e9",
   "metadata": {},
   "outputs": [],
   "source": [
    "\n",
    "#2Q\n",
    "#the difference between string and variable is \n",
    "#string contains text which start and end with single or double code character\n",
    "#and values can be stored in variables"
   ]
  },
  {
   "cell_type": "code",
   "execution_count": 3,
   "id": "85e982c7",
   "metadata": {},
   "outputs": [
    {
     "data": {
      "text/plain": [
       "''"
      ]
     },
     "execution_count": 3,
     "metadata": {},
     "output_type": "execute_result"
    }
   ],
   "source": [
    "#3Q \n",
    "# the three different datatypes are integer,float,string\n",
    "int()\n",
    "float()\n",
    "str()"
   ]
  },
  {
   "cell_type": "code",
   "execution_count": 4,
   "id": "4784c7a6",
   "metadata": {},
   "outputs": [],
   "source": [
    "#4Q\n",
    "#expression is made up of values + operators and expression evaluates to one value"
   ]
  },
  {
   "cell_type": "code",
   "execution_count": 5,
   "id": "8dab9ed8",
   "metadata": {},
   "outputs": [],
   "source": [
    "#5Q\n",
    "#expression evaluates to sinlgle value and statement dosen't evaluate to single value"
   ]
  },
  {
   "cell_type": "code",
   "execution_count": 6,
   "id": "fdb27f5d",
   "metadata": {},
   "outputs": [
    {
     "data": {
      "text/plain": [
       "23"
      ]
     },
     "execution_count": 6,
     "metadata": {},
     "output_type": "execute_result"
    }
   ],
   "source": [
    "#6Q\n",
    "23"
   ]
  },
  {
   "cell_type": "code",
   "execution_count": 7,
   "id": "d058a08c",
   "metadata": {},
   "outputs": [
    {
     "data": {
      "text/plain": [
       "'spamspamspam'"
      ]
     },
     "execution_count": 7,
     "metadata": {},
     "output_type": "execute_result"
    }
   ],
   "source": [
    "#7Q\n",
    "#string concatination\n",
    "'spam' + 'spamspam'"
   ]
  },
  {
   "cell_type": "code",
   "execution_count": 8,
   "id": "77bfde94",
   "metadata": {},
   "outputs": [
    {
     "data": {
      "text/plain": [
       "'spamspamspam'"
      ]
     },
     "execution_count": 8,
     "metadata": {},
     "output_type": "execute_result"
    }
   ],
   "source": [
    "#7Q\n",
    "#string replication\n",
    "'spam' * 3"
   ]
  },
  {
   "cell_type": "code",
   "execution_count": 9,
   "id": "985feeac",
   "metadata": {},
   "outputs": [
    {
     "data": {
      "text/plain": [
       "''"
      ]
     },
     "execution_count": 9,
     "metadata": {},
     "output_type": "execute_result"
    }
   ],
   "source": [
    "#9Q\n",
    "int()\n",
    "float()\n",
    "str()"
   ]
  },
  {
   "cell_type": "code",
   "execution_count": 10,
   "id": "6a83a0e2",
   "metadata": {},
   "outputs": [
    {
     "data": {
      "text/plain": [
       "'i have eaten 99 burritos'"
      ]
     },
     "execution_count": 10,
     "metadata": {},
     "output_type": "execute_result"
    }
   ],
   "source": [
    "#10Q\n",
    "# 'i have eaten' and 'burritos' is str() type while 99 is int() type\n",
    "# so we can fix this by assigning 99 as str() type or 'i have eaten' and 'burritos' to int() type\n",
    "'i have eaten' + ' 99' + ' burritos'"
   ]
  },
  {
   "cell_type": "code",
   "execution_count": null,
   "id": "4cd7785b",
   "metadata": {},
   "outputs": [],
   "source": []
  }
 ],
 "metadata": {
  "kernelspec": {
   "display_name": "Python 3 (ipykernel)",
   "language": "python",
   "name": "python3"
  },
  "language_info": {
   "codemirror_mode": {
    "name": "ipython",
    "version": 3
   },
   "file_extension": ".py",
   "mimetype": "text/x-python",
   "name": "python",
   "nbconvert_exporter": "python",
   "pygments_lexer": "ipython3",
   "version": "3.9.12"
  }
 },
 "nbformat": 4,
 "nbformat_minor": 5
}
