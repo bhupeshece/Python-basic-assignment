{
 "cells": [
  {
   "cell_type": "code",
   "execution_count": 2,
   "id": "84548d61",
   "metadata": {},
   "outputs": [],
   "source": [
    "#Q1\n",
    "import itertools"
   ]
  },
  {
   "cell_type": "code",
   "execution_count": 3,
   "id": "7e3b51a1",
   "metadata": {},
   "outputs": [
    {
     "name": "stdout",
     "output_type": "stream",
     "text": [
      "1\n",
      "2\n",
      "3\n",
      "4\n",
      "5\n",
      "s\n",
      "f\n",
      "g\n"
     ]
    }
   ],
   "source": [
    "#Q2\n",
    "for item in itertools.chain([1,2,3,4,5],['s','f','g']):\n",
    "    print(item)"
   ]
  },
  {
   "cell_type": "code",
   "execution_count": 4,
   "id": "4b86b584",
   "metadata": {},
   "outputs": [
    {
     "name": "stdout",
     "output_type": "stream",
     "text": [
      "1\n",
      "3\n",
      "15\n",
      "105\n",
      "945\n"
     ]
    }
   ],
   "source": [
    "#Q3\n",
    "def add_by(a,c):\n",
    "    return a*c\n",
    "\n",
    "for i in itertools.accumulate([1,3,5,7,9],add_by):\n",
    "    print(i)"
   ]
  },
  {
   "cell_type": "code",
   "execution_count": 5,
   "id": "1b6e5e30",
   "metadata": {},
   "outputs": [
    {
     "name": "stdout",
     "output_type": "stream",
     "text": [
      "{'a': 1, 'b': 2, 'c': 3}\n"
     ]
    }
   ],
   "source": [
    "#Q5\n",
    "plain = {'a':1,'b':2,'c':3}\n",
    "print(plain)"
   ]
  },
  {
   "cell_type": "code",
   "execution_count": 6,
   "id": "060535c4",
   "metadata": {},
   "outputs": [
    {
     "name": "stdout",
     "output_type": "stream",
     "text": [
      "OrderedDict([('a', 1), ('b', 2), ('c', 3)])\n",
      "yes it did print same order as plain\n"
     ]
    }
   ],
   "source": [
    "#Q6\n",
    "from collections import OrderedDict\n",
    "fancy = OrderedDict(plain)\n",
    "print(fancy)\n",
    "print(\"yes it did print same order as plain\")"
   ]
  },
  {
   "cell_type": "code",
   "execution_count": 8,
   "id": "68cba722",
   "metadata": {},
   "outputs": [
    {
     "data": {
      "text/plain": [
       "'something for a'"
      ]
     },
     "execution_count": 8,
     "metadata": {},
     "output_type": "execute_result"
    }
   ],
   "source": [
    "#Q7\n",
    "from collections import defaultdict\n",
    "def some():\n",
    "    return 'something for a'\n",
    "\n",
    "dict_of_list = defaultdict(some)\n",
    "dict_of_list['a']"
   ]
  },
  {
   "cell_type": "code",
   "execution_count": null,
   "id": "c7d13f56",
   "metadata": {},
   "outputs": [],
   "source": []
  }
 ],
 "metadata": {
  "kernelspec": {
   "display_name": "Python 3 (ipykernel)",
   "language": "python",
   "name": "python3"
  },
  "language_info": {
   "codemirror_mode": {
    "name": "ipython",
    "version": 3
   },
   "file_extension": ".py",
   "mimetype": "text/x-python",
   "name": "python",
   "nbconvert_exporter": "python",
   "pygments_lexer": "ipython3",
   "version": "3.10.9"
  }
 },
 "nbformat": 4,
 "nbformat_minor": 5
}
