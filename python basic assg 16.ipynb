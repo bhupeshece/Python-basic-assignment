{
 "cells": [
  {
   "cell_type": "code",
   "execution_count": 2,
   "id": "1fc94238",
   "metadata": {},
   "outputs": [
    {
     "name": "stdout",
     "output_type": "stream",
     "text": [
      "[1998, 1999, 2000, 2001, 2002, 2003]\n"
     ]
    }
   ],
   "source": [
    "#Q1\n",
    "years_list = [1998,1999,2000,2001,2002,2003]\n",
    "print(years_list)"
   ]
  },
  {
   "cell_type": "code",
   "execution_count": 3,
   "id": "b3c36aff",
   "metadata": {},
   "outputs": [
    {
     "name": "stdout",
     "output_type": "stream",
     "text": [
      "the third birthday was 2001\n"
     ]
    }
   ],
   "source": [
    "#Q2\n",
    "print(\"the third birthday was\",years_list[3])"
   ]
  },
  {
   "cell_type": "code",
   "execution_count": 4,
   "id": "8bc1acd4",
   "metadata": {},
   "outputs": [
    {
     "name": "stdout",
     "output_type": "stream",
     "text": [
      "the oldest was 2003\n"
     ]
    }
   ],
   "source": [
    "#Q3\n",
    "print(\"the oldest was\",max(years_list))"
   ]
  },
  {
   "cell_type": "code",
   "execution_count": 5,
   "id": "ab23fdcc",
   "metadata": {},
   "outputs": [
    {
     "name": "stdout",
     "output_type": "stream",
     "text": [
      "['mozzarella', 'cinderella', 'salmonella']\n"
     ]
    }
   ],
   "source": [
    "\n",
    "#Q4\n",
    "things = ['mozzarella', 'cinderella', 'salmonella']\n",
    "print(things)"
   ]
  },
  {
   "cell_type": "code",
   "execution_count": 6,
   "id": "f50abba9",
   "metadata": {},
   "outputs": [
    {
     "name": "stdout",
     "output_type": "stream",
     "text": [
      "Mozzarella\n",
      "Cinderella\n",
      "Salmonella\n",
      "['mozzarella', 'cinderella', 'salmonella']\n"
     ]
    }
   ],
   "source": [
    "#Q5\n",
    "for i in things:\n",
    "    print(i.capitalize())\n",
    "print(things)"
   ]
  },
  {
   "cell_type": "code",
   "execution_count": 7,
   "id": "01a882e9",
   "metadata": {},
   "outputs": [
    {
     "name": "stdout",
     "output_type": "stream",
     "text": [
      "['Groucho', 'chico', 'Harpo']\n"
     ]
    }
   ],
   "source": [
    "#Q6\n",
    "suprise = [\"Groucho\",\"chico\",\"Harpo\"]\n",
    "print(suprise)"
   ]
  },
  {
   "cell_type": "code",
   "execution_count": 8,
   "id": "0f51503e",
   "metadata": {},
   "outputs": [
    {
     "data": {
      "text/plain": [
       "'Harpo'"
      ]
     },
     "execution_count": 8,
     "metadata": {},
     "output_type": "execute_result"
    }
   ],
   "source": [
    "#Q7\n",
    "result = suprise[-1].lower()\n",
    "result[::-1]\n",
    "result.capitalize()"
   ]
  },
  {
   "cell_type": "code",
   "execution_count": 9,
   "id": "422a908d",
   "metadata": {},
   "outputs": [
    {
     "name": "stdout",
     "output_type": "stream",
     "text": [
      "{'dog': 'chien', 'cat': 'chat', 'walrus': 'morse'}\n"
     ]
    }
   ],
   "source": [
    "#Q8\n",
    "e2f = {'dog':'chien', 'cat':'chat', 'walrus':'morse'}\n",
    "print(e2f)"
   ]
  },
  {
   "cell_type": "code",
   "execution_count": 10,
   "id": "4b5f7a95",
   "metadata": {},
   "outputs": [
    {
     "name": "stdout",
     "output_type": "stream",
     "text": [
      "the french word for walrus is morse\n"
     ]
    }
   ],
   "source": [
    "#Q9\n",
    "print(\"the french word for walrus is\",e2f['walrus'])"
   ]
  },
  {
   "cell_type": "code",
   "execution_count": 11,
   "id": "264ab740",
   "metadata": {},
   "outputs": [
    {
     "name": "stdout",
     "output_type": "stream",
     "text": [
      "{'chien': 'dog', 'chat': 'cat', 'morse': 'walrus'}\n"
     ]
    }
   ],
   "source": [
    "#Q10\n",
    "f2e = dict((i,j) for j,i in e2f.items())\n",
    "print(f2e)"
   ]
  },
  {
   "cell_type": "code",
   "execution_count": 12,
   "id": "847e417a",
   "metadata": {},
   "outputs": [
    {
     "name": "stdout",
     "output_type": "stream",
     "text": [
      "dog\n"
     ]
    }
   ],
   "source": [
    "#Q11\n",
    "print(f2e['chien'])"
   ]
  },
  {
   "cell_type": "code",
   "execution_count": 13,
   "id": "8e72695e",
   "metadata": {},
   "outputs": [
    {
     "name": "stdout",
     "output_type": "stream",
     "text": [
      "dict_keys(['dog', 'cat', 'walrus'])\n"
     ]
    }
   ],
   "source": [
    "#Q12\n",
    "print(e2f.keys())"
   ]
  },
  {
   "cell_type": "code",
   "execution_count": 14,
   "id": "5ce64efa",
   "metadata": {},
   "outputs": [
    {
     "name": "stdout",
     "output_type": "stream",
     "text": [
      "{'cats': ['Henri', 'Grumpy', 'Lucy'], 'octopi': '', 'emus': ''}\n",
      "{'animal': {'cats': ['Henri', 'Grumpy', 'Lucy'], 'octopi': '', 'emus': ''}, 'plants': '', 'other': ''}\n"
     ]
    }
   ],
   "source": [
    "#Q13\n",
    "animal ={'cats':['Henri','Grumpy','Lucy'],'octopi':'','emus':''}\n",
    "life ={'animal':animal,'plants':'','other':''}\n",
    "print(animal)\n",
    "print(life)"
   ]
  },
  {
   "cell_type": "code",
   "execution_count": 15,
   "id": "66aeb235",
   "metadata": {},
   "outputs": [
    {
     "name": "stdout",
     "output_type": "stream",
     "text": [
      "dict_keys(['animal', 'plants', 'other'])\n"
     ]
    }
   ],
   "source": [
    "#Q14\n",
    "print(life.keys())"
   ]
  },
  {
   "cell_type": "code",
   "execution_count": 16,
   "id": "9f962ba8",
   "metadata": {},
   "outputs": [
    {
     "name": "stdout",
     "output_type": "stream",
     "text": [
      "dict_keys(['cats', 'octopi', 'emus'])\n"
     ]
    }
   ],
   "source": [
    "#Q15\n",
    "print(life['animal'].keys())"
   ]
  },
  {
   "cell_type": "code",
   "execution_count": 17,
   "id": "17d5c313",
   "metadata": {},
   "outputs": [
    {
     "name": "stdout",
     "output_type": "stream",
     "text": [
      "['Henri', 'Grumpy', 'Lucy']\n"
     ]
    }
   ],
   "source": [
    "#Q16\n",
    "print(life['animal']['cats'])"
   ]
  },
  {
   "cell_type": "code",
   "execution_count": null,
   "id": "282ade89",
   "metadata": {},
   "outputs": [],
   "source": []
  }
 ],
 "metadata": {
  "kernelspec": {
   "display_name": "Python 3 (ipykernel)",
   "language": "python",
   "name": "python3"
  },
  "language_info": {
   "codemirror_mode": {
    "name": "ipython",
    "version": 3
   },
   "file_extension": ".py",
   "mimetype": "text/x-python",
   "name": "python",
   "nbconvert_exporter": "python",
   "pygments_lexer": "ipython3",
   "version": "3.9.12"
  }
 },
 "nbformat": 4,
 "nbformat_minor": 5
}
